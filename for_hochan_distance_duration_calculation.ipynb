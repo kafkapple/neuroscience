{
  "cells": [
    {
      "cell_type": "markdown",
      "metadata": {
        "id": "view-in-github",
        "colab_type": "text"
      },
      "source": [
        "<a href=\"https://colab.research.google.com/github/kafkapple/neuroscience/blob/main/for_hochan_distance_duration_calculation.ipynb\" target=\"_parent\"><img src=\"https://colab.research.google.com/assets/colab-badge.svg\" alt=\"Open In Colab\"/></a>"
      ]
    },
    {
      "cell_type": "code",
      "execution_count": null,
      "id": "50fbd28e-113d-4fe8-b482-daa3c9ebd3b1",
      "metadata": {
        "id": "50fbd28e-113d-4fe8-b482-daa3c9ebd3b1"
      },
      "outputs": [],
      "source": [
        "import pandas as pd\n",
        "import numpy as np\n",
        "#from scipy.spatial import distance\n",
        "\n",
        "# Objective\n",
        "# 1. Calcuclate two major metric\n",
        "#: 1.1. distance moved (->velocity, direction, ...) / 1.2. time duration \n",
        "\n",
        "# 2. Calculate the metric within specific area / zone depending on the timebin "
      ]
    },
    {
      "cell_type": "code",
      "source": [],
      "metadata": {
        "colab": {
          "base_uri": "https://localhost:8080/",
          "height": 757
        },
        "id": "0dyR4VmsKpok",
        "outputId": "f7392ec5-8ad1-4163-a611-7c32a577d271"
      },
      "id": "0dyR4VmsKpok",
      "execution_count": 1,
      "outputs": [
        {
          "output_type": "stream",
          "name": "stdout",
          "text": [
            "Looking in indexes: https://pypi.org/simple, https://us-python.pkg.dev/colab-wheels/public/simple/\n",
            "Collecting import_ipynb\n",
            "  Downloading import_ipynb-0.1.4-py3-none-any.whl (4.1 kB)\n",
            "Requirement already satisfied: nbformat in /usr/local/lib/python3.7/dist-packages (from import_ipynb) (5.7.0)\n",
            "Requirement already satisfied: IPython in /usr/local/lib/python3.7/dist-packages (from import_ipynb) (7.9.0)\n",
            "Requirement already satisfied: setuptools>=18.5 in /usr/local/lib/python3.7/dist-packages (from IPython->import_ipynb) (57.4.0)\n",
            "Requirement already satisfied: decorator in /usr/local/lib/python3.7/dist-packages (from IPython->import_ipynb) (4.4.2)\n",
            "Requirement already satisfied: pexpect in /usr/local/lib/python3.7/dist-packages (from IPython->import_ipynb) (4.8.0)\n",
            "Requirement already satisfied: pickleshare in /usr/local/lib/python3.7/dist-packages (from IPython->import_ipynb) (0.7.5)\n",
            "Collecting jedi>=0.10\n",
            "  Downloading jedi-0.18.1-py2.py3-none-any.whl (1.6 MB)\n",
            "\u001b[K     |████████████████████████████████| 1.6 MB 6.9 MB/s \n",
            "\u001b[?25hRequirement already satisfied: prompt-toolkit<2.1.0,>=2.0.0 in /usr/local/lib/python3.7/dist-packages (from IPython->import_ipynb) (2.0.10)\n",
            "Requirement already satisfied: backcall in /usr/local/lib/python3.7/dist-packages (from IPython->import_ipynb) (0.2.0)\n",
            "Requirement already satisfied: traitlets>=4.2 in /usr/local/lib/python3.7/dist-packages (from IPython->import_ipynb) (5.1.1)\n",
            "Requirement already satisfied: pygments in /usr/local/lib/python3.7/dist-packages (from IPython->import_ipynb) (2.6.1)\n",
            "Requirement already satisfied: parso<0.9.0,>=0.8.0 in /usr/local/lib/python3.7/dist-packages (from jedi>=0.10->IPython->import_ipynb) (0.8.3)\n",
            "Requirement already satisfied: wcwidth in /usr/local/lib/python3.7/dist-packages (from prompt-toolkit<2.1.0,>=2.0.0->IPython->import_ipynb) (0.2.5)\n",
            "Requirement already satisfied: six>=1.9.0 in /usr/local/lib/python3.7/dist-packages (from prompt-toolkit<2.1.0,>=2.0.0->IPython->import_ipynb) (1.15.0)\n",
            "Requirement already satisfied: jsonschema>=2.6 in /usr/local/lib/python3.7/dist-packages (from nbformat->import_ipynb) (4.3.3)\n",
            "Requirement already satisfied: fastjsonschema in /usr/local/lib/python3.7/dist-packages (from nbformat->import_ipynb) (2.16.2)\n",
            "Requirement already satisfied: jupyter-core in /usr/local/lib/python3.7/dist-packages (from nbformat->import_ipynb) (4.11.2)\n",
            "Requirement already satisfied: importlib-metadata>=3.6 in /usr/local/lib/python3.7/dist-packages (from nbformat->import_ipynb) (4.13.0)\n",
            "Requirement already satisfied: typing-extensions>=3.6.4 in /usr/local/lib/python3.7/dist-packages (from importlib-metadata>=3.6->nbformat->import_ipynb) (4.1.1)\n",
            "Requirement already satisfied: zipp>=0.5 in /usr/local/lib/python3.7/dist-packages (from importlib-metadata>=3.6->nbformat->import_ipynb) (3.10.0)\n",
            "Requirement already satisfied: pyrsistent!=0.17.0,!=0.17.1,!=0.17.2,>=0.14.0 in /usr/local/lib/python3.7/dist-packages (from jsonschema>=2.6->nbformat->import_ipynb) (0.18.1)\n",
            "Requirement already satisfied: importlib-resources>=1.4.0 in /usr/local/lib/python3.7/dist-packages (from jsonschema>=2.6->nbformat->import_ipynb) (5.10.0)\n",
            "Requirement already satisfied: attrs>=17.4.0 in /usr/local/lib/python3.7/dist-packages (from jsonschema>=2.6->nbformat->import_ipynb) (22.1.0)\n",
            "Requirement already satisfied: ptyprocess>=0.5 in /usr/local/lib/python3.7/dist-packages (from pexpect->IPython->import_ipynb) (0.7.0)\n",
            "Installing collected packages: jedi, import-ipynb\n",
            "Successfully installed import-ipynb-0.1.4 jedi-0.18.1\n"
          ]
        },
        {
          "output_type": "error",
          "ename": "NameError",
          "evalue": "ignored",
          "traceback": [
            "\u001b[0;31m---------------------------------------------------------------------------\u001b[0m",
            "\u001b[0;31mNameError\u001b[0m                                 Traceback (most recent call last)",
            "\u001b[0;32m<ipython-input-1-50c2dd807cc6>\u001b[0m in \u001b[0;36m<module>\u001b[0;34m\u001b[0m\n\u001b[1;32m      8\u001b[0m \u001b[0;31m#file_path = '/content/drive/MyDrive/python/textbook_exam/2022_KHBM/'\u001b[0m\u001b[0;34m\u001b[0m\u001b[0;34m\u001b[0m\u001b[0;34m\u001b[0m\u001b[0m\n\u001b[1;32m      9\u001b[0m \u001b[0;34m\u001b[0m\u001b[0m\n\u001b[0;32m---> 10\u001b[0;31m \u001b[0mos\u001b[0m\u001b[0;34m.\u001b[0m\u001b[0mchdir\u001b[0m\u001b[0;34m(\u001b[0m\u001b[0mfile_path\u001b[0m\u001b[0;34m)\u001b[0m\u001b[0;34m\u001b[0m\u001b[0;34m\u001b[0m\u001b[0m\n\u001b[0m\u001b[1;32m     11\u001b[0m \u001b[0mprint\u001b[0m\u001b[0;34m(\u001b[0m\u001b[0mos\u001b[0m\u001b[0;34m.\u001b[0m\u001b[0mgetcwd\u001b[0m\u001b[0;34m(\u001b[0m\u001b[0;34m)\u001b[0m\u001b[0;34m)\u001b[0m\u001b[0;34m\u001b[0m\u001b[0;34m\u001b[0m\u001b[0m\n",
            "\u001b[0;31mNameError\u001b[0m: name 'file_path' is not defined"
          ]
        }
      ]
    },
    {
      "cell_type": "code",
      "execution_count": null,
      "id": "64302dc6-3b57-4911-a0e6-c9b1be1d2c05",
      "metadata": {
        "id": "64302dc6-3b57-4911-a0e6-c9b1be1d2c05"
      },
      "outputs": [],
      "source": [
        "\n",
        "#Data \n",
        "df=pd.read_csv('./raw/H22.csv', header=None) # 9 body points xyz coordinate data\n",
        "n_frame = df.shape[0] # total no. of frame\n",
        "#5분간 recording 진행: 총 약 9000 frame (fps: 30)\n",
        "\n",
        "# info\n",
        "bodypoints='nose_x, nose_y, nose_z, head_x, head_ y, head_z, anus_x, anus_y, anus_z, bodycenter_x, bodycenter_y, bodycenter_z, right foot_x, right foot_y, right foot_z, left foot_x, left foot_y, left foot_z, right hand_x, right hand_y, right hand_z, left hand_x, left hand_y, left hand_z, tailtip_x, tailtip_y, tailtip_z'\n",
        "BP=bodypoints.split(', ')\n",
        "df.columns=BP # body points label\n",
        "\n",
        "# parameter\n",
        "timebin = 60 # sec\n",
        "fps = 30\n",
        "f_per_bin = timebin*fps # total frame per timebin\n",
        "n_bin=n_frame//f_per_bin # ignore the timebin having missing data\n",
        "\n",
        "#xaxis = -10 ~ 10 (총 20cm)\n",
        "#yasxis= -10 ~ 10 (총 20cm)\n",
        "#zaxis= -1~15.6 (총 16.6cm) "
      ]
    },
    {
      "cell_type": "code",
      "execution_count": null,
      "id": "f5b1ee12-1b13-47a8-96c3-facd4d667685",
      "metadata": {
        "id": "f5b1ee12-1b13-47a8-96c3-facd4d667685",
        "outputId": "c092e473-abdb-409b-f54c-b1874c34f216"
      },
      "outputs": [
        {
          "data": {
            "image/png": "[encoded data removed]",
            "text/plain": [
              "<Figure size 640x480 with 2 Axes>"
            ]
          },
          "metadata": {},
          "output_type": "display_data"
        }
      ],
      "source": [
        "# select target body point to focus: e.g., bodycenter\n",
        "df_x= df.columns[df.columns.str.contains('x')] # x coordinate label\n",
        "target_point = ['bodycenter_x', 'bodycenter_y'] # x, y only (to be simplified)\n",
        "df_target=df.loc[:,target_point]\n",
        "\n",
        "# visualize the data to check the distribution\n",
        "hist = df_target.hist(bins=5)"
      ]
    },
    {
      "cell_type": "code",
      "execution_count": null,
      "id": "8d19efa0-eb1d-4210-88ce-994c73e8e38e",
      "metadata": {
        "id": "8d19efa0-eb1d-4210-88ce-994c73e8e38e"
      },
      "outputs": [],
      "source": []
    },
    {
      "cell_type": "code",
      "execution_count": null,
      "id": "e456a6ea-7721-4f08-84a1-d6d06103f38a",
      "metadata": {
        "id": "e456a6ea-7721-4f08-84a1-d6d06103f38a"
      },
      "outputs": [],
      "source": [
        "# zone: select ROI (region of interest)\n",
        "#zone_x=[-2,2] # x -2 ~ 2\n",
        "#zone_y=[-2,2] # y -2 ~ 2\n",
        "#zone_z\n",
        "\n",
        "###  query idx when x,y coordinate in zone (ignore z. )\n",
        "#### x:target_point[0]  # -2<x<2\n",
        "#### y:target_point[1]  # -2<y<2\n",
        "\n",
        "df_zone =df_target.query('{}>{} and {}<{} and {}>{} and {}<{}'.format(target_point[0],zone_x[0],target_point[0],zone_x[1],target_point[1],zone_y[0],target_point[1],zone_y[1]))"
      ]
    },
    {
      "cell_type": "code",
      "execution_count": null,
      "id": "6f41b277-7feb-42b3-a301-de6be66f6653",
      "metadata": {
        "id": "6f41b277-7feb-42b3-a301-de6be66f6653",
        "outputId": "c463f442-d7b1-465e-b8b3-a06acfb9216c"
      },
      "outputs": [
        {
          "name": "stdout",
          "output_type": "stream",
          "text": [
            "Total no of frame: 8452\n",
            "FPS: 30\n",
            "Total time: 281.733 sec\n",
            "Timebin: 60 sec\n",
            "Target body point: ['bodycenter_x', 'bodycenter_y']\n",
            "\n",
            "-Timebin 1\n",
            "Distance moved in area: 224.881 cm (calibration needed)\n",
            "Duration in arena: 59.967 sec\n",
            "Duration in zone: 2.867 sec\n",
            "\n",
            "-Timebin 2\n",
            "Distance moved in area: 174.731 cm (calibration needed)\n",
            "Duration in arena: 59.967 sec\n",
            "Duration in zone: 1.267 sec\n",
            "\n",
            "-Timebin 3\n",
            "Distance moved in area: 134.496 cm (calibration needed)\n",
            "Duration in arena: 59.967 sec\n",
            "Duration in zone: 0.6 sec\n",
            "\n",
            "-Timebin 4\n",
            "Distance moved in area: 111.464 cm (calibration needed)\n",
            "Duration in arena: 59.967 sec\n",
            "Duration in zone: 12.533 sec\n",
            "\n"
          ]
        }
      ],
      "source": [
        "# e.g., 0<= idx < (0+1)*60*30 =1800\n",
        "# 1800 <= idx < 2*60*30=3600 ...\n",
        "\n",
        "# per timebin\n",
        "print('Total no of frame: {}\\nFPS: {}\\nTotal time: {} sec\\nTimebin: {} sec\\nTarget body point: {}\\n'.format(n_frame,fps, round(n_frame/fps,3), timebin,target_point))\n",
        "for i in range(n_bin):\n",
        "    # Total\n",
        "   # print('Timebin {}: {} sec '.format(i+1, round(i_sec_total,3)))\n",
        "    print('-Timebin {}'.format(i+1))\n",
        "    i_df=df_target.query('index >{} and index <{} '.format(i*f_per_bin, (i+1)*f_per_bin))\n",
        "    #i_dist_total=distance.pdist(i_df.values, metric='euclidean') \n",
        "    i_dist_total=np.sum(np.sqrt(i_df.diff().pow(2).sum(axis=1)))\n",
        "    print('Distance moved in area: {} cm (calibration needed)'.format(round(i_dist_total,3)))\n",
        "    print('Duration in arena: {} sec'.format(round(i_df.shape[0]/fps,3)))\n",
        "    # Zone\n",
        "    i_df_zone=df_zone.query('index >{} and index <{} '.format(i*f_per_bin, (i+1)*f_per_bin))\n",
        "    i_no_frame=i_df_zone.shape[0] # total no. of frame per ith timebin when subject is in the zone\n",
        "    i_sec=i_no_frame/fps # total sec per ith timebin\n",
        "    print('Duration in zone: {} sec\\n'.format(round(i_sec,3)))"
      ]
    },
    {
      "cell_type": "code",
      "execution_count": null,
      "id": "d81f9f48-46c4-4a63-9ee8-bcf9e42f9c82",
      "metadata": {
        "id": "d81f9f48-46c4-4a63-9ee8-bcf9e42f9c82",
        "outputId": "753ad7aa-e035-469f-ec17-8fe2281df9ef"
      },
      "outputs": [
        {
          "data": {
            "text/html": [
              "<div>\n",
              "<style scoped>\n",
              "    .dataframe tbody tr th:only-of-type {\n",
              "        vertical-align: middle;\n",
              "    }\n",
              "\n",
              "    .dataframe tbody tr th {\n",
              "        vertical-align: top;\n",
              "    }\n",
              "\n",
              "    .dataframe thead th {\n",
              "        text-align: right;\n",
              "    }\n",
              "</style>\n",
              "<table border=\"1\" class=\"dataframe\">\n",
              "  <thead>\n",
              "    <tr style=\"text-align: right;\">\n",
              "      <th></th>\n",
              "      <th>bodycenter_x</th>\n",
              "      <th>bodycenter_y</th>\n",
              "    </tr>\n",
              "  </thead>\n",
              "  <tbody>\n",
              "    <tr>\n",
              "      <th>5401</th>\n",
              "      <td>-5.9895</td>\n",
              "      <td>0.20421</td>\n",
              "    </tr>\n",
              "    <tr>\n",
              "      <th>5402</th>\n",
              "      <td>-6.0132</td>\n",
              "      <td>0.52632</td>\n",
              "    </tr>\n",
              "    <tr>\n",
              "      <th>5403</th>\n",
              "      <td>-6.0789</td>\n",
              "      <td>0.93284</td>\n",
              "    </tr>\n",
              "    <tr>\n",
              "      <th>5404</th>\n",
              "      <td>-6.1818</td>\n",
              "      <td>1.36000</td>\n",
              "    </tr>\n",
              "    <tr>\n",
              "      <th>5405</th>\n",
              "      <td>-6.3215</td>\n",
              "      <td>1.78460</td>\n",
              "    </tr>\n",
              "    <tr>\n",
              "      <th>...</th>\n",
              "      <td>...</td>\n",
              "      <td>...</td>\n",
              "    </tr>\n",
              "    <tr>\n",
              "      <th>7195</th>\n",
              "      <td>5.1133</td>\n",
              "      <td>4.70390</td>\n",
              "    </tr>\n",
              "    <tr>\n",
              "      <th>7196</th>\n",
              "      <td>5.1001</td>\n",
              "      <td>4.69810</td>\n",
              "    </tr>\n",
              "    <tr>\n",
              "      <th>7197</th>\n",
              "      <td>5.0797</td>\n",
              "      <td>4.68970</td>\n",
              "    </tr>\n",
              "    <tr>\n",
              "      <th>7198</th>\n",
              "      <td>5.0544</td>\n",
              "      <td>4.68280</td>\n",
              "    </tr>\n",
              "    <tr>\n",
              "      <th>7199</th>\n",
              "      <td>5.0485</td>\n",
              "      <td>4.68280</td>\n",
              "    </tr>\n",
              "  </tbody>\n",
              "</table>\n",
              "<p>1799 rows × 2 columns</p>\n",
              "</div>"
            ],
            "text/plain": [
              "      bodycenter_x  bodycenter_y\n",
              "5401       -5.9895       0.20421\n",
              "5402       -6.0132       0.52632\n",
              "5403       -6.0789       0.93284\n",
              "5404       -6.1818       1.36000\n",
              "5405       -6.3215       1.78460\n",
              "...            ...           ...\n",
              "7195        5.1133       4.70390\n",
              "7196        5.1001       4.69810\n",
              "7197        5.0797       4.68970\n",
              "7198        5.0544       4.68280\n",
              "7199        5.0485       4.68280\n",
              "\n",
              "[1799 rows x 2 columns]"
            ]
          },
          "execution_count": 256,
          "metadata": {},
          "output_type": "execute_result"
        }
      ],
      "source": []
    },
    {
      "cell_type": "code",
      "execution_count": null,
      "id": "37644c2c-5601-4469-a182-80c36ff784ac",
      "metadata": {
        "id": "37644c2c-5601-4469-a182-80c36ff784ac"
      },
      "outputs": [],
      "source": [
        "\n",
        "\"\"\"\n",
        "from sklearn.metrics.pairwise import euclidean_distances\n",
        "dist = euclidean_distances(i_df.values, i_df.values)\n",
        "series1 = pd.Series(range(10))\n",
        "series2 = pd.Series(range(100,110))\n",
        "distance = np.linalg.norm(series1-series2)\n",
        "df_z = df_zone.reset_index(level=0)\n",
        "\"\"\""
      ]
    },
    {
      "cell_type": "code",
      "execution_count": null,
      "id": "df941cbc-1581-4947-9a2b-e454a42e057d",
      "metadata": {
        "id": "df941cbc-1581-4947-9a2b-e454a42e057d"
      },
      "outputs": [],
      "source": []
    },
    {
      "cell_type": "code",
      "execution_count": null,
      "id": "9b4f30d0-b0de-4a8b-bfce-005bb8e87b51",
      "metadata": {
        "id": "9b4f30d0-b0de-4a8b-bfce-005bb8e87b51"
      },
      "outputs": [],
      "source": []
    },
    {
      "cell_type": "code",
      "execution_count": null,
      "id": "c24cb7ce-4934-43aa-b14e-8938fd90ee34",
      "metadata": {
        "id": "c24cb7ce-4934-43aa-b14e-8938fd90ee34"
      },
      "outputs": [],
      "source": []
    }
  ],
  "metadata": {
    "kernelspec": {
      "display_name": "Python 3 (ipykernel)",
      "language": "python",
      "name": "python3"
    },
    "language_info": {
      "codemirror_mode": {
        "name": "ipython",
        "version": 3
      },
      "file_extension": ".py",
      "mimetype": "text/x-python",
      "name": "python",
      "nbconvert_exporter": "python",
      "pygments_lexer": "ipython3",
      "version": "3.8.13"
    },
    "colab": {
      "provenance": [],
      "include_colab_link": true
    }
  },
  "nbformat": 4,
  "nbformat_minor": 5
}